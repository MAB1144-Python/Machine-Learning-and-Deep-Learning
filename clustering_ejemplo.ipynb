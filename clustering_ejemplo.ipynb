{
  "nbformat": 4,
  "nbformat_minor": 0,
  "metadata": {
    "colab": {
      "name": "clustering ejemplo",
      "provenance": [],
      "collapsed_sections": [],
      "authorship_tag": "ABX9TyNLUI6qrFGK776qy9pcFYIF",
      "include_colab_link": true
    },
    "kernelspec": {
      "name": "python3",
      "display_name": "Python 3"
    },
    "language_info": {
      "name": "python"
    }
  },
  "cells": [
    {
      "cell_type": "markdown",
      "metadata": {
        "id": "view-in-github",
        "colab_type": "text"
      },
      "source": [
        "<a href=\"https://colab.research.google.com/github/MAB1144-Python/Machine-Learning-and-Deep-Learning/blob/master/clustering_ejemplo.ipynb\" target=\"_parent\"><img src=\"https://colab.research.google.com/assets/colab-badge.svg\" alt=\"Open In Colab\"/></a>"
      ]
    },
    {
      "cell_type": "code",
      "execution_count": null,
      "metadata": {
        "colab": {
          "base_uri": "https://localhost:8080/",
          "height": 244
        },
        "id": "TL-jOpkvkwN_",
        "outputId": "70a63319-f7b6-48b0-d136-a78b3e78a319"
      },
      "outputs": [
        {
          "output_type": "display_data",
          "data": {
            "image/png": "[encoded data removed]",
            "text/plain": [
              "<Figure size 864x216 with 3 Axes>"
            ]
          },
          "metadata": {
            "needs_background": "light"
          }
        }
      ],
      "source": [
        "from sklearn.datasets import make_blobs\n",
        "import matplotlib.pyplot as plt\n",
        "import numpy as np\n",
        "\n",
        "def sigmoid(t):\n",
        "    return 1/(1+np.exp(-t))\n",
        "\n",
        "def prediction(theta,x):\n",
        "    return theta[0]*theta[1]*x[0]+theta[2]*x[1]\n",
        "\n",
        "def label(theta,x):\n",
        "    return int(round(sigmoid(prediction(theta,x))))\n",
        "\n",
        "def gradient(theta, X, y, j):\n",
        "    sum = 0\n",
        "    for i in range(X.shape[0]): # one epoch\n",
        "        if j==0:\n",
        "            X_aux = 1 # intercept\n",
        "        else:\n",
        "            X_aux = X[i,j-1]  # slope\n",
        "        sum += (sigmoid(prediction(theta,X[i])) - y[i])*X_aux\n",
        "    return sum/X.shape[0]\n",
        "\n",
        "def fit(theta, X, y, epochs):\n",
        "    for e in range(epochs):\n",
        "        for j in range(len(theta)):\n",
        "            theta[j] -= gradient(theta,X,y,j)\n",
        "    return theta\n",
        "\n",
        "X,y = make_blobs(n_samples=100,n_features=2,centers=2,random_state=10)\n",
        "\n",
        "fig,axs = plt.subplots(1,3,figsize=(12,3))\n",
        "\n",
        "theta_0 = [8.7, 9.1, 6.4]\n",
        "# A figure for eac number  of epochs model\n",
        "for i,ax in zip([0,2,3], axs):\n",
        "    theta = fit(theta_0, X, y, i)  # fit the model using i epochs\n",
        "    label_y = []\n",
        "    for row in range(len(y)):\n",
        "        label_y.append(label(theta,X[row]))   # labeled results vector  \n",
        "    # incorrect labeled samples \n",
        "    ax.scatter(X[y!=label_y,0], X[y!=label_y,1],c='c', marker='+') \n",
        "    # correct labeled samples\n",
        "    ax.scatter(X[y==label_y,0], X[y==label_y,1],c='b', marker='o') \n",
        "    ax.set_title(format(i)+' epochs') \n",
        "    ax.set_xlabel('Feature 1', fontsize=12); ax.set_ylabel('Feature 2',\n",
        "                  fontsize=12)      \n",
        "plt.show()\n"
      ]
    }
  ]
}