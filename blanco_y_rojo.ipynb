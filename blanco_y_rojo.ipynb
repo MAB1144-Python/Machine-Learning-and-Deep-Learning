{
  "nbformat": 4,
  "nbformat_minor": 0,
  "metadata": {
    "colab": {
      "name": "Untitled2.ipynb",
      "provenance": [],
      "collapsed_sections": [],
      "authorship_tag": "ABX9TyPkVnJCAPQpI/66zJThd7cJ",
      "include_colab_link": true
    },
    "kernelspec": {
      "name": "python3",
      "display_name": "Python 3"
    },
    "language_info": {
      "name": "python"
    }
  },
  "cells": [
    {
      "cell_type": "markdown",
      "metadata": {
        "id": "view-in-github",
        "colab_type": "text"
      },
      "source": [
        "<a href=\"https://colab.research.google.com/github/MAB1144-Python/python-ejercicios/blob/master/blanco_y_rojo.ipynb\" target=\"_parent\"><img src=\"https://colab.research.google.com/assets/colab-badge.svg\" alt=\"Open In Colab\"/></a>"
      ]
    },
    {
      "cell_type": "code",
      "execution_count": 1,
      "metadata": {
        "colab": {
          "base_uri": "https://localhost:8080/"
        },
        "id": "ppSyAXGfQ5w4",
        "outputId": "3b9c79f6-9433-4f5e-9a17-6fc8ca81d10a"
      },
      "outputs": [
        {
          "output_type": "stream",
          "name": "stdout",
          "text": [
            "      fixed acidity  volatile acidity  citric acid  ...  sulphates  alcohol  quality\n",
            "0               7.0              0.27         0.36  ...       0.45      8.8        6\n",
            "1               6.3              0.30         0.34  ...       0.49      9.5        6\n",
            "2               8.1              0.28         0.40  ...       0.44     10.1        6\n",
            "3               7.2              0.23         0.32  ...       0.40      9.9        6\n",
            "4               7.2              0.23         0.32  ...       0.40      9.9        6\n",
            "...             ...               ...          ...  ...        ...      ...      ...\n",
            "4893            6.2              0.21         0.29  ...       0.50     11.2        6\n",
            "4894            6.6              0.32         0.36  ...       0.46      9.6        5\n",
            "4895            6.5              0.24         0.19  ...       0.46      9.4        6\n",
            "4896            5.5              0.29         0.30  ...       0.38     12.8        7\n",
            "4897            6.0              0.21         0.38  ...       0.32     11.8        6\n",
            "\n",
            "[4898 rows x 12 columns]\n",
            "      fixed acidity  volatile acidity  citric acid  ...  sulphates  alcohol  quality\n",
            "0               7.4             0.700         0.00  ...       0.56      9.4        5\n",
            "1               7.8             0.880         0.00  ...       0.68      9.8        5\n",
            "2               7.8             0.760         0.04  ...       0.65      9.8        5\n",
            "3              11.2             0.280         0.56  ...       0.58      9.8        6\n",
            "4               7.4             0.700         0.00  ...       0.56      9.4        5\n",
            "...             ...               ...          ...  ...        ...      ...      ...\n",
            "1594            6.2             0.600         0.08  ...       0.58     10.5        5\n",
            "1595            5.9             0.550         0.10  ...       0.76     11.2        6\n",
            "1596            6.3             0.510         0.13  ...       0.75     11.0        6\n",
            "1597            5.9             0.645         0.12  ...       0.71     10.2        5\n",
            "1598            6.0             0.310         0.47  ...       0.66     11.0        6\n",
            "\n",
            "[1599 rows x 12 columns]\n"
          ]
        }
      ],
      "source": [
        "\n",
        "# Import pandas \n",
        "import pandas as pd\n",
        "\n",
        "# Read in white wine data \n",
        "white = pd.read_csv(\"http://archive.ics.uci.edu/ml/machine-learning-databases/wine-quality/winequality-white.csv\", sep=';')\n",
        "print(white)\n",
        "# Read in red wine data \n",
        "red = pd.read_csv(\"http://archive.ics.uci.edu/ml/machine-learning-databases/wine-quality/winequality-red.csv\", sep=';')\n",
        "print(red)"
      ]
    }
  ]
}